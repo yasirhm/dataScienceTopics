import numpy as np
from keras.preprocessing.text import Tokenizer
from keras.preprocessing.sequence import pad_sequences
from keras.layers import Embedding, Dense, Flatten
from keras.models import Sequential

# Define the dataset
sentences = ['This is a positive sentence',
             'This is a negative sentence',
             'Another positive sentence',
             'And another negative one']
labels = [1, 0, 1, 0]  # 1 for positive, 0 for negative

# Tokenize the sentences and convert them to numerical sequences
tokenizer = Tokenizer()
tokenizer.fit_on_texts(sentences)
sequences = tokenizer.texts_to_sequences(sentences)

# Pad the sequences to the same length
max_length = max([len(seq) for seq in sequences])
padded_sequences = pad_sequences(sequences, maxlen=max_length)

# Create the neural network model
model = Sequential()

# Add an embedding layer to handle the words
model.add(Embedding(input_dim=len(tokenizer.word_index) + 1, output_dim=8, input_length=max_length))

# Flatten the output of the embedding layer
model.add(Flatten())

# Add a dense layer with sigmoid activation
model.add(Dense(1, activation='sigmoid'))

# Compile the model
model.compile(optimizer='adam', loss='binary_crossentropy', metrics=['accuracy'])

# Train the model
model.fit(padded_sequences, labels, epochs=10, batch_size=32)
